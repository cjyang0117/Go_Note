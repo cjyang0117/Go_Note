{
 "cells": [
  {
   "cell_type": "markdown",
   "metadata": {
    "tags": []
   },
   "source": [
    "<img src=\"gopher.png\" width=\"300\" height=\"300\" style=\"float: left;\">"
   ]
  },
  {
   "cell_type": "markdown",
   "metadata": {
    "tags": []
   },
   "source": [
    "## Packages\n",
    "Every Go program is made up of packages. Programs start running in package main.\n",
    "\n",
    "By convention, the package name is the same as the last element of the import path. For instance, the \"math/rand\" package comprises files that begin with the statement package rand."
   ]
  },
  {
   "cell_type": "code",
   "execution_count": null,
   "metadata": {},
   "outputs": [],
   "source": [
    "// Cannot run on jupyter\n",
    "package main\n",
    "\n",
    "import (\n",
    "    \"fmt\"\n",
    "    \"math/rand\"\n",
    ")\n",
    "\n",
    "func main() {\n",
    "    fmt.Println(\"My favorite number is\", rand.Intn(10))\n",
    "}"
   ]
  },
  {
   "cell_type": "markdown",
   "metadata": {},
   "source": [
    "## Exported names\n",
    "In Go, a name is exported if it begins with a **capital letter**. For example, Pi is an exported name, which is exported from the math package.\n",
    "\n",
    "When importing a package, you can refer only to its exported names. Any \"unexported\" names are not accessible from outside the package."
   ]
  },
  {
   "cell_type": "code",
   "execution_count": 1,
   "metadata": {},
   "outputs": [
    {
     "name": "stdout",
     "output_type": "stream",
     "text": [
      "3.141592653589793\n"
     ]
    },
    {
     "data": {
      "text/plain": [
       "18 <nil>"
      ]
     },
     "execution_count": 1,
     "metadata": {},
     "output_type": "execute_result"
    }
   ],
   "source": [
    "import (\n",
    "    \"fmt\"\n",
    "    \"math\"\n",
    ")\n",
    "\n",
    "fmt.Println(math.Pi)"
   ]
  },
  {
   "cell_type": "markdown",
   "metadata": {},
   "source": [
    "## Variables"
   ]
  },
  {
   "cell_type": "markdown",
   "metadata": {},
   "source": [
    "### Basic\n",
    "The var statement declares a list of variables; as in function argument lists, the type is last.\n",
    "\n",
    "Go's basic types are\n",
    "- bool // true, false\n",
    "- string\n",
    "- int, int8, int16, int32, int64\n",
    "- uint, uint8, uint16, uint32, uint64, uintptr\n",
    "- byte // alias for uint8\n",
    "- rune // alias for int32, represents a Unicode point\n",
    "- float32, float64\n",
    "- complex64, complex128"
   ]
  },
  {
   "cell_type": "code",
   "execution_count": 24,
   "metadata": {},
   "outputs": [
    {
     "name": "stdout",
     "output_type": "stream",
     "text": [
      "0 false false false\n"
     ]
    }
   ],
   "source": [
    "import \"fmt\"\n",
    "\n",
    "// Variables declared without an explicit initial value are given their zero value.\n",
    "// 0 for numeric types,\n",
    "// false for the boolean type, and\n",
    "// \"\" (the empty string) for strings.\n",
    "var c, python, java bool\n",
    "\n",
    "func test_func() {\n",
    "    var i int\n",
    "    fmt.Println(i, c, python, java)\n",
    "}\n",
    "\n",
    "test_func()\n",
    "\n",
    "// Constants\n",
    "// Constants cannot be declared using the := syntax.\n",
    "const Pi = 3.14\n",
    "const Truth bool = true"
   ]
  },
  {
   "cell_type": "code",
   "execution_count": 21,
   "metadata": {},
   "outputs": [
    {
     "name": "stdout",
     "output_type": "stream",
     "text": [
      "Type bool Value false\n",
      "Type uint64 Value 18446744073709551615\n",
      "Type complex128 Value (2+3i)\n",
      "\n",
      "1 2 true No\n",
      "1 2 3\n",
      "42 42 42\n"
     ]
    },
    {
     "data": {
      "text/plain": [
       "9 <nil>"
      ]
     },
     "execution_count": 21,
     "metadata": {},
     "output_type": "execute_result"
    }
   ],
   "source": [
    "// Variables with initializers\n",
    "import \"fmt\"\n",
    "import \"math/cmplx\"\n",
    "\n",
    "var i, j int = 1, 2\n",
    "\n",
    "var (\n",
    "    ToBe   bool       = false\n",
    "    MaxInt uint64     = 1<<64 - 1\n",
    "    z      complex128 = cmplx.Sqrt(-5 + 12i)\n",
    ")\n",
    "fmt.Printf(\"Type %T Value %v\\n\", ToBe, ToBe)\n",
    "fmt.Printf(\"Type %T Value %v\\n\", MaxInt, MaxInt)\n",
    "fmt.Printf(\"Type %T Value %v\\n\", z, z)\n",
    "fmt.Println()\n",
    "\n",
    "// If an initializer is present, the type can be omitted\n",
    "var c, python = true, \"No\"\n",
    "fmt.Println(i, j, c, python)\n",
    "\n",
    "// Short variable declarations\n",
    "a := 1\n",
    "b, c := 2, \"3\"\n",
    "fmt.Println(a, b, c)\n",
    "\n",
    "// Type conversions\n",
    "i := 42\n",
    "f := float64(i)\n",
    "u := uint(f)\n",
    "fmt.Println(i, f, u)"
   ]
  },
  {
   "cell_type": "markdown",
   "metadata": {},
   "source": [
    "### Pointers\n",
    "Go has pointers. A pointer holds the memory address of a value.\n",
    "The type *T is a pointer to a T value. Its zero value is nil.\n",
    "\n",
    "- The & operator generates a pointer to its operand.\n",
    "    - i := 42\n",
    "    - p = &i\n",
    "- The * operator denotes the pointer's underlying value.\n",
    "    - fmt.Println(*p) // read i through the pointer p\n",
    "    - *p = 21         // set i through the pointer p\n",
    "\n",
    "This is known as \"dereferencing\" or \"indirecting\".\n",
    "\n",
    "Unlike C, Go has no pointer arithmetic."
   ]
  },
  {
   "cell_type": "code",
   "execution_count": 30,
   "metadata": {},
   "outputs": [
    {
     "name": "stdout",
     "output_type": "stream",
     "text": [
      "*p = i = 42 \n",
      "i = *p = 21 \n",
      "j = *p = 73 \n"
     ]
    },
    {
     "data": {
      "text/plain": [
       "13 <nil>"
      ]
     },
     "execution_count": 30,
     "metadata": {},
     "output_type": "execute_result"
    }
   ],
   "source": [
    "import \"fmt\"\n",
    "\n",
    "i, j := 42, 2701\n",
    "p := &i\n",
    "fmt.Printf(\"*p = i = %v \\n\", *p)\n",
    "*p = 21\n",
    "fmt.Printf(\"i = *p = %v \\n\", i)\n",
    "\n",
    "p = &j\n",
    "*p = *p / 37\n",
    "fmt.Printf(\"j = *p = %v \\n\", j)"
   ]
  },
  {
   "cell_type": "markdown",
   "metadata": {},
   "source": [
    "### Structs\n",
    "A struct is a collection of fields."
   ]
  },
  {
   "cell_type": "code",
   "execution_count": 46,
   "metadata": {},
   "outputs": [
    {
     "name": "stdout",
     "output_type": "stream",
     "text": [
      "{1 2}\n",
      "v.X = 6 \n",
      "v.X = 7 \n",
      "v1 = {1 2} \n",
      "v2 = {1 0} \n",
      "v3 = {0 0} \n",
      "p1 = &{3 4} \n",
      "*p1 = {3 4} \n"
     ]
    },
    {
     "data": {
      "text/plain": [
       "13 <nil>"
      ]
     },
     "execution_count": 46,
     "metadata": {},
     "output_type": "execute_result"
    }
   ],
   "source": [
    "import \"fmt\"\n",
    "\n",
    "type Vertex struct {\n",
    "    X int\n",
    "    Y int\n",
    "}\n",
    "v := Vertex{1, 2}\n",
    "fmt.Println(v)\n",
    "v.X = 6\n",
    "fmt.Printf(\"v.X = %v \\n\", v.X)\n",
    "\n",
    "// To access the field X of a struct when we have the struct pointer p we could write (*p).X. \n",
    "// However, that notation is cumbersome, so the language permits us instead to write just p.X, \n",
    "// without the explicit dereference.\n",
    "p := &v\n",
    "p.X = 7\n",
    "fmt.Printf(\"v.X = %v \\n\", v.X)\n",
    "\n",
    "// Struct Literals\n",
    "var (\n",
    "    v1 = Vertex{1, 2}\n",
    "    v2 = Vertex{X: 1}\n",
    "    v3 = Vertex{}\n",
    "    p1 = &Vertex{3, 4}\n",
    ")\n",
    "fmt.Printf(\"v1 = %v \\n\", v1)\n",
    "fmt.Printf(\"v2 = %v \\n\", v2)\n",
    "fmt.Printf(\"v3 = %v \\n\", v3)\n",
    "fmt.Printf(\"p1 = %v \\n\", p1)\n",
    "fmt.Printf(\"*p1 = %v \\n\", *p1)"
   ]
  },
  {
   "cell_type": "markdown",
   "metadata": {},
   "source": [
    "### Arrays\n",
    "The type [n]T is an array of n values of type T.\n",
    "\n",
    "An array's length is part of its type, so arrays cannot be resized. This seems limiting, but don't worry; Go provides a convenient way of working with arrays."
   ]
  },
  {
   "cell_type": "code",
   "execution_count": 50,
   "metadata": {},
   "outputs": [
    {
     "name": "stdout",
     "output_type": "stream",
     "text": [
      "Hello World\n",
      "[Hello World]\n",
      "Hello World\n",
      "[Hello World]\n"
     ]
    },
    {
     "data": {
      "text/plain": [
       "14 <nil>"
      ]
     },
     "execution_count": 50,
     "metadata": {},
     "output_type": "execute_result"
    }
   ],
   "source": [
    "var a[2]string\n",
    "a[0] = \"Hello\"\n",
    "a[1] = \"World\"\n",
    "fmt.Println(a[0], a[1])\n",
    "fmt.Println(a)\n",
    "\n",
    "b := [2]string{\"Hello\", \"World\"}\n",
    "fmt.Println(a[0], a[1])\n",
    "fmt.Println(a)"
   ]
  },
  {
   "cell_type": "markdown",
   "metadata": {},
   "source": [
    "### Slices\n",
    "An array has a fixed size. A slice, on the other hand, is a dynamically-sized, flexible view into the elements of an array. In practice, slices are much more common than arrays.\n",
    "\n",
    "The type []T is a slice with elements of type T."
   ]
  },
  {
   "cell_type": "code",
   "execution_count": 110,
   "metadata": {},
   "outputs": [
    {
     "name": "stdout",
     "output_type": "stream",
     "text": [
      "[3 5 7]\n",
      "[3 5 7]\n",
      "[3 5 7 11 13]\n",
      "[2 3 5 7]\n",
      "\n",
      "refer:\n",
      "[Kevin XXX] [XXX Jan]\n",
      "[Kevin XXX Jan Andy]\n",
      "\n",
      "Slice literals:\n",
      "[1 2 3]\n",
      "[true false false]\n",
      "[{1 true} {2 false} {10 true}]\n",
      "\n",
      "make:\n",
      "len=5 cap=5 [0 0 0 0 0]\n",
      "len=0 cap=5 []\n",
      "len=2 cap=5 [0 0]\n",
      "len=3 cap=3 [0 0 0]\n",
      "\n",
      "Slices of slices:\n",
      "X _ X\n",
      "O _ X\n",
      "_ _ O\n"
     ]
    }
   ],
   "source": [
    "import \"fmt\"\n",
    "\n",
    "arr := [6]int{2, 3, 5, 7, 11, 13}\n",
    "var slice []int = arr[1:4]\n",
    "fmt.Println(slice)\n",
    "fmt.Println(arr[1:4])\n",
    "// The default is zero for the low bound and the length of the slice for the high bound.\n",
    "fmt.Println(arr[1:])\n",
    "fmt.Println(arr[:4])\n",
    "\n",
    "fmt.Println(\"\\nrefer:\")\n",
    "\n",
    "// A slice does not store any data, it just describes a section of an underlying array.\n",
    "names := [4]string{\n",
    "    \"Kevin\",\n",
    "    \"Tom\",\n",
    "    \"Jan\",\n",
    "    \"Andy\",\n",
    "}\n",
    "a := names[0:2]\n",
    "b := names[1:3]\n",
    "b[0] = \"XXX\"\n",
    "fmt.Println(a, b)\n",
    "fmt.Println(names)\n",
    "\n",
    "fmt.Println(\"\\nSlice literals:\")\n",
    "\n",
    "// Slice literals\n",
    "q := []int{1, 2, 3}\n",
    "r := []bool{true, false, false}\n",
    "s := []struct {\n",
    "    i int\n",
    "    b bool\n",
    "}{\n",
    "    {1, true},\n",
    "    {2, false},\n",
    "    {10, true},\n",
    "}\n",
    "fmt.Println(q)\n",
    "fmt.Println(r)\n",
    "fmt.Println(s)\n",
    "\n",
    "fmt.Println(\"\\nmake:\")\n",
    "\n",
    "// Slices can be created with the built-in make function; \n",
    "// this is how you create dynamically-sized arrays.\n",
    "// The make function allocates a zeroed array and returns a slice that refers to that array:\n",
    "func printSlice(s []int) {\n",
    "    fmt.Printf(\"len=%d cap=%d %v\\n\", len(s), cap(s), s)\n",
    "}\n",
    "a := make([]int, 5)\n",
    "printSlice(a)\n",
    "b := make([]int, 0, 5)\n",
    "printSlice(b)\n",
    "// re-slicing\n",
    "c := b[:2]\n",
    "printSlice(c)\n",
    "d := c[2:5]\n",
    "printSlice(d)\n",
    "\n",
    "fmt.Println(\"\\nSlices of slices:\")\n",
    "\n",
    "// Slices of slices\n",
    "import \"strings\"\n",
    "\n",
    "board := [][]string{\n",
    "    []string{\"_\", \"_\", \"_\"},\n",
    "    []string{\"_\", \"_\", \"_\"},\n",
    "    []string{\"_\", \"_\", \"_\"},\n",
    "}\n",
    "board[0][0] = \"X\"\n",
    "board[2][2] = \"O\"\n",
    "board[1][2] = \"X\"\n",
    "board[1][0] = \"O\"\n",
    "board[0][2] = \"X\"\n",
    "\n",
    "for i := 0; i < len(board); i++ {\n",
    "    fmt.Printf(\"%s\\n\", strings.Join(board[i], \" \"))\n",
    "}"
   ]
  },
  {
   "cell_type": "code",
   "execution_count": 114,
   "metadata": {},
   "outputs": [
    {
     "name": "stdout",
     "output_type": "stream",
     "text": [
      "len=6 cap=6 [2 3 5 7 11 13]\n",
      "len=4 cap=6 [2 3 5 7]\n",
      "len=2 cap=4 [5 7]\n",
      "len=4 cap=4 [5 7 11 13]\n",
      "\n",
      "[] 0 0\n",
      "slice e is nil!!\n",
      "\n",
      "append:\n",
      "len=0 cap=0 []\n",
      "len=1 cap=1 [0]\n",
      "len=5 cap=8 [0 1 2 3 4]\n"
     ]
    }
   ],
   "source": [
    "import \"fmt\"\n",
    "\n",
    "func printSlice(s []int) {\n",
    "    fmt.Printf(\"len=%d cap=%d %v\\n\", len(s), cap(s), s)\n",
    "}\n",
    "\n",
    "// Slice length and capacity\n",
    "// The capacity of a slice is the number of elements in the underlying array, \n",
    "// counting from the first element in the slice.\n",
    "s := []int{2, 3, 5, 7, 11, 13}\n",
    "printSlice(s)\n",
    "s = s[:4]\n",
    "printSlice(s)\n",
    "s = s[2:]\n",
    "printSlice(s)\n",
    "// re-slicing\n",
    "s = s[:cap(s)]\n",
    "printSlice(s)\n",
    "\n",
    "fmt.Println()\n",
    "\n",
    "// The zero value of a slice is nil.\n",
    "var e []int\n",
    "fmt.Println(e, len(e), cap(e))\n",
    "if e == nil {\n",
    "    fmt.Println(\"slice e is nil!!\")\n",
    "}\n",
    "\n",
    "fmt.Println(\"\\nappend:\")\n",
    "\n",
    "// Appending to a slice\n",
    "// The resulting value of append is a slice containing all the elements \n",
    "// of the original slice plus the provided values.\n",
    "var s []int\n",
    "printSlice(s)\n",
    "s = append(s, 0)\n",
    "printSlice(s)\n",
    "s = append(s, 1, 2, 3, 4)\n",
    "printSlice(s)"
   ]
  },
  {
   "cell_type": "markdown",
   "metadata": {},
   "source": [
    "### Maps\n",
    "A map maps keys to values.\n",
    "\n",
    "The zero value of a map is nil. A nil map has no keys, nor can keys be added.\n",
    "\n",
    "The make function returns a map of the given type, initialized and ready for use."
   ]
  },
  {
   "cell_type": "code",
   "execution_count": 129,
   "metadata": {},
   "outputs": [
    {
     "name": "stdout",
     "output_type": "stream",
     "text": [
      "{40.68433 -7.439967e+06} true\n",
      "map[Bell Labs:{40.68433 -7.439967e+06} Google:{37.42202 -122.08408}]\n",
      "map[Bell Labs:{40.68433 -7.439967e+06} Google:{37.42202 -122.08408}]\n"
     ]
    },
    {
     "data": {
      "text/plain": [
       "69 <nil>"
      ]
     },
     "execution_count": 129,
     "metadata": {},
     "output_type": "execute_result"
    }
   ],
   "source": [
    "import \"fmt\"\n",
    "\n",
    "type Vertex struct {\n",
    "    Lat, Long float64\n",
    "}\n",
    "\n",
    "var m map[string]Vertex\n",
    "m = make(map[string]Vertex)\n",
    "m[\"Bell Labs\"] = Vertex{\n",
    "    40.68433, -7439967,\n",
    "}\n",
    "fmt.Println(m[\"Bell Labs\"])\n",
    "\n",
    "// Map literals\n",
    "var m = map[string]Vertex{\n",
    "    \"Bell Labs\": Vertex{\n",
    "        40.68433, -7439967,\n",
    "    },\n",
    "    \"Google\": Vertex{\n",
    "        37.42202, -122.08408,\n",
    "    },\n",
    "}\n",
    "fmt.Println(m)\n",
    "\n",
    "// If the top-level type is just a type name, \n",
    "// you can omit it from the elements of the literal.\n",
    "var m = map[string]Vertex{\n",
    "    \"Bell Labs\": {40.68433, -7439967},\n",
    "    \"Google\": {37.42202, -122.08408},\n",
    "}\n",
    "fmt.Println(m)"
   ]
  },
  {
   "cell_type": "code",
   "execution_count": 132,
   "metadata": {},
   "outputs": [
    {
     "name": "stdout",
     "output_type": "stream",
     "text": [
      "42 true\n",
      "48 true\n",
      "0 false\n",
      "0 false\n"
     ]
    },
    {
     "data": {
      "text/plain": [
       "8 <nil>"
      ]
     },
     "execution_count": 132,
     "metadata": {},
     "output_type": "execute_result"
    }
   ],
   "source": [
    "import \"fmt\"\n",
    "\n",
    "m := make(map[string]int)\n",
    "m[\"Answer\"] = 42\n",
    "fmt.Println(m[\"Answer\"])\n",
    "m[\"Answer\"] = 48\n",
    "fmt.Println(m[\"Answer\"])\n",
    "delete(m, \"Answer\")\n",
    "fmt.Println(m[\"Answer\"])\n",
    "v, ok := m[\"Answer\"]\n",
    "fmt.Println(v, ok)"
   ]
  },
  {
   "cell_type": "code",
   "execution_count": 7,
   "metadata": {},
   "outputs": [
    {
     "name": "stdout",
     "output_type": "stream",
     "text": [
      "{40.68433 -7.439967e+06} true\n"
     ]
    },
    {
     "data": {
      "text/plain": [
       "30 <nil>"
      ]
     },
     "execution_count": 7,
     "metadata": {},
     "output_type": "execute_result"
    }
   ],
   "source": [
    "import \"fmt\"\n",
    "\n",
    "type Vertex struct {\n",
    "    Lat, Long float64\n",
    "}\n",
    "\n",
    "var m map[string]Vertex\n",
    "m = make(map[string]Vertex)\n",
    "m[\"Bell Labs\"] = Vertex{\n",
    "    40.68433, -7439967,\n",
    "}\n",
    "fmt.Println(m[\"Bell Labs\"])"
   ]
  },
  {
   "cell_type": "code",
   "execution_count": 9,
   "metadata": {},
   "outputs": [
    {
     "name": "stdout",
     "output_type": "stream",
     "text": [
      "{40.68433 -7.439967e+06}\n",
      "true\n"
     ]
    },
    {
     "data": {
      "text/plain": [
       "5 <nil>"
      ]
     },
     "execution_count": 9,
     "metadata": {},
     "output_type": "execute_result"
    }
   ],
   "source": [
    "test, ok := m[\"Bell Labs\"]\n",
    "fmt.Println(test)\n",
    "fmt.Println(ok)"
   ]
  },
  {
   "cell_type": "markdown",
   "metadata": {},
   "source": [
    "## Flow control"
   ]
  },
  {
   "cell_type": "markdown",
   "metadata": {},
   "source": [
    "### for\n",
    "Go has only one looping construct, the for loop."
   ]
  },
  {
   "cell_type": "code",
   "execution_count": 120,
   "metadata": {},
   "outputs": [
    {
     "name": "stdout",
     "output_type": "stream",
     "text": [
      "45\n",
      "1024\n",
      "1024\n",
      "1024\n",
      "\n",
      "range:\n",
      "0: 2\n",
      "1: 4\n",
      "2: 6\n",
      "3: 8\n",
      "4: 10\n",
      "\n",
      "0: \n",
      "1: \n",
      "2: \n",
      "3: \n",
      "4: \n",
      "0: \n",
      "1: \n",
      "2: \n",
      "3: \n",
      "4: \n",
      "\n",
      ": 2\n",
      ": 4\n",
      ": 6\n",
      ": 8\n",
      ": 10\n"
     ]
    }
   ],
   "source": [
    "import \"fmt\"\n",
    "\n",
    "sum := 0\n",
    "for i := 0; i < 10; i++ {\n",
    "    sum += i\n",
    "}\n",
    "fmt.Println(sum)\n",
    "\n",
    "// The init and post statements are optional.\n",
    "sum := 1\n",
    "for ; sum < 1000; {\n",
    "    sum += sum\n",
    "}\n",
    "fmt.Println(sum)\n",
    "\n",
    "// while\n",
    "sum := 1\n",
    "for sum < 1000 {\n",
    "    sum += sum\n",
    "}\n",
    "fmt.Println(sum)\n",
    "\n",
    "// infinite loop\n",
    "sum := 1\n",
    "for {\n",
    "    sum += sum\n",
    "    if sum > 1000 {\n",
    "        break\n",
    "    }\n",
    "}\n",
    "fmt.Println(sum)\n",
    "\n",
    "fmt.Println(\"\\nrange:\")\n",
    "\n",
    "// The range form of the for loop iterates over a slice or map.\n",
    "pow := []int{2, 4, 6, 8, 10}\n",
    "for idx, v := range pow {\n",
    "    fmt.Printf(\"%d: %d\\n\", idx, v)\n",
    "}\n",
    "\n",
    "fmt.Println()\n",
    "\n",
    "for idx, _ := range pow {\n",
    "    fmt.Printf(\"%d: \\n\", idx)\n",
    "}\n",
    "for idx := range pow {\n",
    "    fmt.Printf(\"%d: \\n\", idx)\n",
    "}\n",
    "\n",
    "fmt.Println()\n",
    "\n",
    "for _, v := range pow {\n",
    "    fmt.Printf(\": %v\\n\", v)\n",
    "}"
   ]
  },
  {
   "cell_type": "markdown",
   "metadata": {},
   "source": [
    "### if\n",
    "Go's if statements are like its for loops; the expression need not be surrounded by parentheses ( ) but the braces { } are required."
   ]
  },
  {
   "cell_type": "code",
   "execution_count": 8,
   "metadata": {},
   "outputs": [
    {
     "name": "stdout",
     "output_type": "stream",
     "text": [
      "1\n",
      "7\n"
     ]
    }
   ],
   "source": [
    "import \"fmt\"\n",
    "\n",
    "sum := 1\n",
    "if sum > 0 {\n",
    "    fmt.Println(sum)\n",
    "}\n",
    "\n",
    "// Variables declared by the statement are only in scope until the end of the if.\n",
    "var x, y, lim int = 3, 4, 10\n",
    "if sum := x + y; sum < lim {\n",
    "    fmt.Println(sum)\n",
    "} else {\n",
    "    fmt.Printf(\"%v > lim %v\", sum, lim)\n",
    "}\n",
    "\n"
   ]
  },
  {
   "cell_type": "markdown",
   "metadata": {},
   "source": [
    "### switch\n",
    "Go's switch is like the one in C, C++, Java, JavaScript, and PHP, except that Go only runs the selected case, not all the cases that follow. In effect, the break statement that is needed at the end of each case in those languages is provided automatically in Go. Another important difference is that Go's switch cases need not be constants, and the values involved need not be integers."
   ]
  },
  {
   "cell_type": "code",
   "execution_count": 14,
   "metadata": {},
   "outputs": [
    {
     "name": "stdout",
     "output_type": "stream",
     "text": [
      "Go runs on Linux.\n",
      "Good morning!\n"
     ]
    }
   ],
   "source": [
    "import (\n",
    "    \"fmt\"\n",
    "    \"runtime\"\n",
    "    \"time\"\n",
    ")\n",
    "\n",
    "fmt.Print(\"Go runs on \")\n",
    "switch os := runtime.GOOS; os {\n",
    "    case \"darwin\":\n",
    "        fmt.Println(\"OS X.\")\n",
    "    case \"linux\":\n",
    "        fmt.Println(\"Linux.\")\n",
    "    default:\n",
    "        fmt.Printf(\"%s. \\n\", os)\n",
    "}\n",
    "\n",
    "// Switch without a condition is the same as switch true.\n",
    "// This construct can be a clean way to write long if-then-else chains.\n",
    "t := time.Now()\n",
    "switch {\n",
    "    case t.Hour() < 12:\n",
    "        fmt.Println(\"Good morning!\")\n",
    "    case t.Hour() < 17:\n",
    "        fmt.Println(\"Good afternoon.\")\n",
    "    default:\n",
    "        fmt.Println(\"Good evening.\")\n",
    "}"
   ]
  },
  {
   "cell_type": "markdown",
   "metadata": {},
   "source": [
    "### defer\n",
    "A defer statement defers the execution of a function until the surrounding function returns.\n",
    "\n",
    "The deferred call's arguments are evaluated immediately, but the function call is not executed until the surrounding function returns."
   ]
  },
  {
   "cell_type": "code",
   "execution_count": 23,
   "metadata": {},
   "outputs": [
    {
     "name": "stdout",
     "output_type": "stream",
     "text": [
      "Hello world!\n",
      "\n",
      "start\n",
      "done\n",
      "9\n",
      "8\n",
      "7\n",
      "6\n",
      "5\n",
      "4\n",
      "3\n",
      "2\n",
      "1\n",
      "0\n"
     ]
    }
   ],
   "source": [
    "import \"fmt\"\n",
    "\n",
    "func say_hi() {\n",
    "    defer fmt.Println(\"world!\")\n",
    "    fmt.Print(\"Hello \")\n",
    "}\n",
    "say_hi()\n",
    "\n",
    "fmt.Println()\n",
    "\n",
    "// Deferred function calls are pushed onto a stack. \n",
    "// When a function returns, its deferred calls are executed in last-in-first-out order.\n",
    "func defer_stack() {\n",
    "    fmt.Println(\"start\")\n",
    "    for i := 0; i < 10; i++ {\n",
    "        defer fmt.Println(i)\n",
    "    }\n",
    "    fmt.Println(\"done\")\n",
    "}\n",
    "defer_stack()"
   ]
  },
  {
   "cell_type": "markdown",
   "metadata": {},
   "source": [
    "## Functions"
   ]
  },
  {
   "cell_type": "code",
   "execution_count": 2,
   "metadata": {},
   "outputs": [
    {
     "name": "stdout",
     "output_type": "stream",
     "text": [
      "7\n",
      "7\n"
     ]
    },
    {
     "data": {
      "text/plain": [
       "2 <nil>"
      ]
     },
     "execution_count": 2,
     "metadata": {},
     "output_type": "execute_result"
    }
   ],
   "source": [
    "func add(x int, y int) int {\n",
    "    return x + y\n",
    "}\n",
    "\n",
    "// When two or more consecutive named function parameters share a type, \n",
    "// you can omit the type from all but the last.\n",
    "func add_v2(x, y int) int {\n",
    "    return x + y\n",
    "}\n",
    "\n",
    "fmt.Println(add(3, 4))\n",
    "fmt.Println(add_v2(3, 4))"
   ]
  },
  {
   "cell_type": "code",
   "execution_count": 3,
   "metadata": {},
   "outputs": [
    {
     "name": "stdout",
     "output_type": "stream",
     "text": [
      "world hello\n"
     ]
    },
    {
     "data": {
      "text/plain": [
       "12 <nil>"
      ]
     },
     "execution_count": 3,
     "metadata": {},
     "output_type": "execute_result"
    }
   ],
   "source": [
    "// Multiple results\n",
    "import \"fmt\"\n",
    "\n",
    "func swap(x, y string) (string, string) {\n",
    "    return y, x\n",
    "}\n",
    "\n",
    "a, b := swap(\"hello\", \"world\")\n",
    "fmt.Println(a, b)"
   ]
  },
  {
   "cell_type": "code",
   "execution_count": 10,
   "metadata": {},
   "outputs": [
    {
     "name": "stdout",
     "output_type": "stream",
     "text": [
      "8 12\n"
     ]
    },
    {
     "data": {
      "text/plain": [
       "5 <nil>"
      ]
     },
     "execution_count": 10,
     "metadata": {},
     "output_type": "execute_result"
    }
   ],
   "source": [
    "// Named return values\n",
    "// A return statement without arguments returns the named return values. This is known as a \"naked\" return.\n",
    "// Naked return statements should be used only in short functions, as with the example shown here. \n",
    "// They can harm readability in longer functions.\n",
    "import \"fmt\"\n",
    "\n",
    "func split(sum int) (x, y int) {\n",
    "    x = sum * 4 / 9\n",
    "    y = sum - x\n",
    "    return\n",
    "}\n",
    "\n",
    "fmt.Println(split(20))"
   ]
  },
  {
   "cell_type": "markdown",
   "metadata": {},
   "source": [
    "## Methods (Class-like)\n",
    "Go does not have classes. However, you can define methods on types.\n",
    "\n",
    "In general, all methods on a given type should have either value or pointer receivers, **but not a mixture of both.**"
   ]
  },
  {
   "cell_type": "code",
   "execution_count": 18,
   "metadata": {},
   "outputs": [],
   "source": [
    "import (\n",
    "    \"fmt\"\n",
    "    \"math\"\n",
    ")\n",
    "\n",
    "// you can declare a method on non-struct types, too\n",
    "// ex: type MyFloat float64\n",
    "type Vertex struct {\n",
    "    X, Y float64 // private attribute\n",
    "}\n",
    "\n",
    "func (v Vertex) Abs() float64 {\n",
    "    return math.Sqrt(v.X*v.X + v.Y*v.Y)\n",
    "}\n",
    "\n",
    "// pointer receivers v (pointer receivers are more common than value receivers)\n",
    "func (v *Vertex) Scale(f float64) {\n",
    "    v.X = v.X * f\n",
    "    v.Y = v.Y * f\n",
    "}"
   ]
  },
  {
   "cell_type": "code",
   "execution_count": 23,
   "metadata": {},
   "outputs": [
    {
     "name": "stdout",
     "output_type": "stream",
     "text": [
      "50\n"
     ]
    },
    {
     "data": {
      "text/plain": [
       "3 <nil>"
      ]
     },
     "execution_count": 23,
     "metadata": {},
     "output_type": "execute_result"
    }
   ],
   "source": [
    "v := Vertex{3, 4} // initialize\n",
    "\n",
    "// Go interprets the statement v.Scale(5) as (&v).Scale(5) since the Scale method has a pointer receiver.\n",
    "// 但以 interface 呼叫時會出事，建議一律都宣告 &Vertex 並且都用 pointer receiver\n",
    "v.Scale(10)\n",
    "\n",
    "fmt.Println(v.Abs())"
   ]
  },
  {
   "cell_type": "markdown",
   "metadata": {},
   "source": [
    "## Interfaces\n",
    "An interface type is defined as a set of method signatures.\n",
    "\n",
    "A value of interface type can hold any value that implements those methods.\n",
    "\n",
    "A type implements an interface by implementing its methods. There is no explicit declaration of intent, no \"implements\" keyword. Implicit interfaces decouple the definition of an interface from its implementation, which could then appear in any package without prearrangement."
   ]
  },
  {
   "cell_type": "code",
   "execution_count": 32,
   "metadata": {},
   "outputs": [],
   "source": [
    "import \"fmt\"\n",
    "\n",
    "type I interface {\n",
    "    M()\n",
    "}\n",
    "\n",
    "type T struct {\n",
    "    S string\n",
    "}\n",
    "\n",
    "// This method means type T implements the interface I,\n",
    "// but we don't need to explicitly declare that it does so.\n",
    "func (t T) M() {\n",
    "    fmt.Println(t.S)\n",
    "}"
   ]
  },
  {
   "cell_type": "code",
   "execution_count": 38,
   "metadata": {},
   "outputs": [
    {
     "name": "stdout",
     "output_type": "stream",
     "text": [
      "hello\n"
     ]
    }
   ],
   "source": [
    "var i I = T{\"hello\"} // 這時若 methods 沒有實作 interface 全部的方法會報錯。可以多沒關係，比如做一些 private method\n",
    "// var i I\n",
    "// t := T{\"hello\"}\n",
    "// i = t\n",
    "\n",
    "i.M()"
   ]
  },
  {
   "cell_type": "markdown",
   "metadata": {},
   "source": [
    "### The empty interface\n",
    "An empty interface may hold values of any type. (Every type implements at least zero methods.)\n",
    "\n",
    "Empty interfaces are used by code that handles values of unknown type. For example, fmt.Print takes any number of arguments of type interface{}."
   ]
  },
  {
   "cell_type": "code",
   "execution_count": 40,
   "metadata": {},
   "outputs": [
    {
     "name": "stdout",
     "output_type": "stream",
     "text": [
      "(<nil>, <nil>)\n",
      "(42, int)\n",
      "(hello, string)\n"
     ]
    }
   ],
   "source": [
    "import \"fmt\"\n",
    "\n",
    "func describe(i interface{}) {\n",
    "    fmt.Printf(\"(%v, %T)\\n\", i, i)\n",
    "}\n",
    "\n",
    "// i 為空的介面，沒有實作任何方法也不會報錯，因此可以賦予它任何值\n",
    "var i interface{}\n",
    "describe(i)\n",
    "\n",
    "i = 42\n",
    "describe(i)\n",
    "\n",
    "i = \"hello\"\n",
    "describe(i)"
   ]
  },
  {
   "cell_type": "markdown",
   "metadata": {},
   "source": [
    "### Type assertions\n",
    "A type assertion provides access to an interface value's underlying concrete value."
   ]
  },
  {
   "cell_type": "code",
   "execution_count": 41,
   "metadata": {},
   "outputs": [
    {
     "name": "stdout",
     "output_type": "stream",
     "text": [
      "hello true\n"
     ]
    },
    {
     "ename": "ERROR",
     "evalue": "interface conversion: <interface{}> is <string>, not <float64>",
     "output_type": "error",
     "traceback": [
      "interface conversion: <interface{}> is <string>, not <float64>"
     ]
    }
   ],
   "source": [
    "import \"fmt\"\n",
    "\n",
    "var i interface{} = \"hello\"\n",
    "\n",
    "s, ok := i.(string)\n",
    "fmt.Println(s, ok)\n",
    "\n",
    "s := i.(float64) // panic\n",
    "fmt.Println(s)"
   ]
  },
  {
   "cell_type": "markdown",
   "metadata": {},
   "source": [
    "### Type switches\n",
    "A type switch is like a regular switch statement, but the cases in a type switch specify types (not values), and those values are compared against the type of the value held by the given interface value."
   ]
  },
  {
   "cell_type": "code",
   "execution_count": 43,
   "metadata": {},
   "outputs": [
    {
     "name": "stdout",
     "output_type": "stream",
     "text": [
      "Twice 21 is 42\n",
      "\"hello\" is 5 bytes long\n",
      "I don't know about type bool!\n"
     ]
    }
   ],
   "source": [
    "import \"fmt\"\n",
    "\n",
    "func do(i interface{}) {\n",
    "    switch v := i.(type) {\n",
    "    case int:\n",
    "        fmt.Printf(\"Twice %v is %v\\n\", v, v*2)\n",
    "    case string:\n",
    "        fmt.Printf(\"%q is %v bytes long\\n\", v, len(v))\n",
    "    default:\n",
    "        fmt.Printf(\"I don't know about type %T!\\n\", v)\n",
    "    }\n",
    "}\n",
    "\n",
    "do(21)\n",
    "do(\"hello\")\n",
    "do(true)"
   ]
  },
  {
   "cell_type": "markdown",
   "metadata": {},
   "source": [
    "## Goroutines\n",
    "A goroutine is a lightweight thread managed by the Go runtime."
   ]
  },
  {
   "cell_type": "code",
   "execution_count": 5,
   "metadata": {},
   "outputs": [
    {
     "name": "stdout",
     "output_type": "stream",
     "text": [
      "hello\n",
      "world\n",
      "hello\n",
      "world\n",
      "hello\n",
      "world\n",
      "hello\n",
      "world\n",
      "world\n",
      "hello\n"
     ]
    }
   ],
   "source": [
    "import (\n",
    "    \"fmt\"\n",
    "    \"time\"\n",
    ")\n",
    "\n",
    "func say(s string) {\n",
    "    for i := 0; i < 5; i++ {\n",
    "        time.Sleep(100 * time.Millisecond)\n",
    "        fmt.Println(s)\n",
    "    }\n",
    "}\n",
    "\n",
    "go say(\"world\")\n",
    "say(\"hello\")"
   ]
  },
  {
   "cell_type": "markdown",
   "metadata": {},
   "source": [
    "## Channels\n",
    "Channels are a typed conduit through which you can send and receive values with the channel operator, <-.\n",
    "\n",
    "By default, **sends and receives block until the other side is ready.** (That is, if you don't use goroutine on the one side, deadlock occurs.) This allows goroutines to synchronize without explicit locks or condition variables. "
   ]
  },
  {
   "cell_type": "code",
   "execution_count": 1,
   "metadata": {},
   "outputs": [
    {
     "name": "stdout",
     "output_type": "stream",
     "text": [
      "17 -5 12\n"
     ]
    },
    {
     "data": {
      "text/plain": [
       "9 <nil>"
      ]
     },
     "execution_count": 1,
     "metadata": {},
     "output_type": "execute_result"
    }
   ],
   "source": [
    "import \"fmt\"\n",
    "\n",
    "func sum(s []int, c chan int) {\n",
    "    sum := 0\n",
    "    for _, v := range s {\n",
    "        sum += v\n",
    "    }\n",
    "    c <- sum // send sum to c\n",
    "}\n",
    "\n",
    "s := []int{7, 2, 8, -9, 4, 0}\n",
    "\n",
    "c := make(chan int)\n",
    "go sum(s[:len(s)/2], c)\n",
    "go sum(s[len(s)/2:], c)\n",
    "x, y := <-c, <-c // receive from c (start listening)\n",
    "\n",
    "fmt.Println(x, y, x+y)"
   ]
  },
  {
   "cell_type": "code",
   "execution_count": null,
   "metadata": {},
   "outputs": [],
   "source": [
    "// Deadlock!（channel block）\n",
    "// 傳送端與接收端需要同時 ready，這個例子 y 會等不到東西而 block 住\n",
    "\n",
    "// func main()\n",
    "//// c := make(chan int)\n",
    "//// go sum(s[:len(s)/2], c)\n",
    "//// x, y := <-c, <-c"
   ]
  },
  {
   "cell_type": "code",
   "execution_count": null,
   "metadata": {},
   "outputs": [],
   "source": [
    "// Passed\n",
    "// 這個例子 main 會順利執行完成，block 在 goroutine 的 sum() 中\n",
    "// 若最後有記得關閉通道，go 應該會自行做垃圾收集\n",
    "\n",
    "// func main()\n",
    "//// c := make(chan int)\n",
    "//// go sum(s[:len(s)/2], c)\n",
    "//// go sum(s[len(s)/2:], c)\n",
    "//// x := <-c"
   ]
  },
  {
   "cell_type": "markdown",
   "metadata": {},
   "source": [
    "### Buffered Channels\n",
    "Channels can be buffered. Provide the buffer length as the second argument to make to initialize a buffered channel.\n",
    "\n",
    "- Sends to a buffered channel block only when the buffer is full.\n",
    "- Receives block when the buffer is empty."
   ]
  },
  {
   "cell_type": "code",
   "execution_count": 6,
   "metadata": {},
   "outputs": [
    {
     "name": "stdout",
     "output_type": "stream",
     "text": [
      "1 true\n",
      "2 true\n"
     ]
    },
    {
     "data": {
      "text/plain": [
       "7 <nil>"
      ]
     },
     "execution_count": 6,
     "metadata": {},
     "output_type": "execute_result"
    }
   ],
   "source": [
    "import \"fmt\"\n",
    "\n",
    "ch := make(chan int, 2)\n",
    "ch <- 1\n",
    "ch <- 2\n",
    "fmt.Println(<-ch)\n",
    "fmt.Println(<-ch)"
   ]
  },
  {
   "cell_type": "code",
   "execution_count": null,
   "metadata": {},
   "outputs": [],
   "source": [
    "// Deadlock!（channel block）\n",
    "// 多送一個沒人接\n",
    "\n",
    "// ch := make(chan int, 2)\n",
    "// ch <- 1\n",
    "// ch <- 2\n",
    "// ch <- 3\n",
    "// fmt.Println(<-ch)\n",
    "// fmt.Println(<-ch)"
   ]
  },
  {
   "cell_type": "code",
   "execution_count": null,
   "metadata": {},
   "outputs": [],
   "source": [
    "// Deadlock!（channel block）\n",
    "// 多收一個沒人送\n",
    "\n",
    "// ch := make(chan int, 2)\n",
    "// ch <- 1\n",
    "// ch <- 2\n",
    "// fmt.Println(<-ch)\n",
    "// fmt.Println(<-ch)\n",
    "// fmt.Println(<-ch)"
   ]
  },
  {
   "cell_type": "markdown",
   "metadata": {},
   "source": [
    "### Range and Close\n",
    "A sender can close a channel to indicate that no more values will be sent. Receivers can test whether a channel has been closed by assigning a second parameter to the receive expression: after v, ok := <-ch\n",
    "\n",
    "**The loop for i := range c receives values from the channel repeatedly until it is closed.**\n",
    "\n",
    "**Note**: Only the sender should close a channel, never the receiver. Sending on a closed channel will cause a panic.\n",
    "\n",
    "**Another note**: Channels aren't like files; you don't usually need to close them. Closing is only necessary when the receiver must be told there are no more values coming, such as to terminate a range loop."
   ]
  },
  {
   "cell_type": "code",
   "execution_count": 14,
   "metadata": {},
   "outputs": [
    {
     "name": "stdout",
     "output_type": "stream",
     "text": [
      "c\n",
      "10\n",
      "0xc0005be000\n",
      "0\n",
      "1\n",
      "1\n",
      "2\n",
      "3\n",
      "5\n",
      "8\n",
      "13\n",
      "21\n",
      "34\n"
     ]
    }
   ],
   "source": [
    "import (\n",
    "    \"fmt\"\n",
    ")\n",
    "\n",
    "func fibonacci(n int, c chan int) {\n",
    "    x, y := 0, 1\n",
    "    for i := 0; i < n; i++ {\n",
    "        c <- x\n",
    "        x, y = y, x+y\n",
    "    }\n",
    "    close(c) // only the sender should close a channel\n",
    "}\n",
    "\n",
    "c := make(chan int, 10)\n",
    "go fibonacci(cap(c), c)\n",
    "for i := range c { // start listening\n",
    "    fmt.Println(i)\n",
    "}"
   ]
  },
  {
   "cell_type": "markdown",
   "metadata": {},
   "source": [
    "### Select\n",
    "The select statement lets a goroutine wait on multiple communication operations.\n",
    "\n",
    "A select blocks until one of its cases can run, then it executes that case. It chooses one at random if multiple are ready."
   ]
  },
  {
   "cell_type": "code",
   "execution_count": 15,
   "metadata": {},
   "outputs": [
    {
     "name": "stdout",
     "output_type": "stream",
     "text": [
      "0 true\n",
      "1 true\n",
      "1 true\n",
      "2 true\n",
      "3 true\n",
      "5 true\n",
      "8 true\n",
      "13 true\n",
      "21 true\n",
      "34 true\n",
      "quit\n"
     ]
    }
   ],
   "source": [
    "import \"fmt\"\n",
    "\n",
    "func fibonacci(c, quit chan int) {\n",
    "    x, y := 0, 1\n",
    "    for {\n",
    "        select {\n",
    "        case c <- x:\n",
    "            x, y = y, x+y\n",
    "        case <-quit:\n",
    "            fmt.Println(\"quit\")\n",
    "            return\n",
    "        }\n",
    "    }\n",
    "}\n",
    "\n",
    "c := make(chan int)\n",
    "quit := make(chan int)\n",
    "go func() {\n",
    "    for i := 0; i < 10; i++ {\n",
    "        fmt.Println(<-c)\n",
    "    }\n",
    "    quit <- 0\n",
    "}()\n",
    "fibonacci(c, quit)"
   ]
  },
  {
   "cell_type": "code",
   "execution_count": 1,
   "metadata": {},
   "outputs": [
    {
     "name": "stdout",
     "output_type": "stream",
     "text": [
      "    .\n",
      "    .\n",
      "tick.\n",
      "    .\n",
      "    .\n",
      "tick.\n",
      "    .\n",
      "    .\n",
      "tick.\n",
      "    .\n",
      "    .\n",
      "tick.\n",
      "    .\n",
      "    .\n",
      "BOOM!\n"
     ]
    }
   ],
   "source": [
    "// Default Selection\n",
    "import (\n",
    "    \"fmt\"\n",
    "    \"time\"\n",
    ")\n",
    "\n",
    "func main() {\n",
    "    tick := time.Tick(100 * time.Millisecond)\n",
    "    boom := time.After(500 * time.Millisecond)\n",
    "    for {\n",
    "        select {\n",
    "        case <-tick:\n",
    "            fmt.Println(\"tick.\")\n",
    "        case <-boom:\n",
    "            fmt.Println(\"BOOM!\")\n",
    "            return\n",
    "        default:\n",
    "            fmt.Println(\"    .\")\n",
    "            time.Sleep(50 * time.Millisecond)\n",
    "        }\n",
    "    }\n",
    "}\n",
    "\n",
    "main()"
   ]
  },
  {
   "cell_type": "markdown",
   "metadata": {},
   "source": [
    "### Worker Pools\n",
    "1. 「goroutine」起三個 worker 監聽 jobs，工作會隨機分配給他們，由於有開緩衝，可以提前用 for...range 去等待\n",
    "2. 「主程式」開始送工作給 worker\n",
    "3. 「主程式」監聽 worker，輸出最後的執行結果"
   ]
  },
  {
   "cell_type": "code",
   "execution_count": 2,
   "metadata": {},
   "outputs": [],
   "source": [
    "import (\n",
    "    \"fmt\"\n",
    "    \"time\"\n",
    ")\n",
    "\n",
    "func worker(id int, jobs <-chan int, results chan<- int) {\n",
    "    for j := range jobs {\n",
    "        fmt.Println(\"worker\", id, \"started  job\", j)\n",
    "        time.Sleep(time.Second)\n",
    "        fmt.Println(\"worker\", id, \"finished job\", j)\n",
    "        results <- j * 2\n",
    "    }\n",
    "}"
   ]
  },
  {
   "cell_type": "code",
   "execution_count": 3,
   "metadata": {},
   "outputs": [
    {
     "name": "stdout",
     "output_type": "stream",
     "text": [
      "worker 2 started  job 3\n",
      "worker 3 started  job 1\n",
      "worker 1 started  job 2\n",
      "worker 3 finished job 1\n",
      "worker 3 started  job 4\n",
      "worker 2 finished job 3\n",
      "worker 2 started  job 5\n",
      "worker 1 finished job 2\n",
      "worker 3 finished job 4\n",
      "worker 2 finished job 5\n"
     ]
    }
   ],
   "source": [
    "const numJobs = 5\n",
    "jobs := make(chan int, numJobs)\n",
    "results := make(chan int, numJobs)\n",
    "\n",
    "for w := 1; w <= 3; w++ {\n",
    "    go worker(w, jobs, results)\n",
    "}\n",
    "\n",
    "// 以下兩個迴圈的次數可以大於 numJobs，只要 buffer 不要滿就好\n",
    "// 但不確定上限在哪，最好讓它是 numJobs 以確保不要爆掉\n",
    "// 也可以都不要用 buffer，但就更容易爆掉\n",
    "for j := 1; j <=  numJobs; j++ {\n",
    "    jobs <- j\n",
    "}\n",
    "close(jobs)\n",
    "\n",
    "for a := 1; a <= numJobs; a++ {\n",
    "    <-results\n",
    "}"
   ]
  }
 ],
 "metadata": {
  "kernelspec": {
   "display_name": "Go",
   "language": "go",
   "name": "gophernotes"
  },
  "language_info": {
   "codemirror_mode": "",
   "file_extension": ".go",
   "mimetype": "",
   "name": "go",
   "nbconvert_exporter": "",
   "pygments_lexer": "",
   "version": "go1.11.4"
  }
 },
 "nbformat": 4,
 "nbformat_minor": 4
}
